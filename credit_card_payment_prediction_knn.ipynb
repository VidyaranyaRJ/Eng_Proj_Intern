{
 "cells": [
  {
   "cell_type": "code",
   "execution_count": 1,
   "metadata": {},
   "outputs": [
    {
     "name": "stdout",
     "output_type": "stream",
     "text": [
      "Requirement already satisfied: numpy in c:\\users\\vrjav\\eng_proj_intern\\.venv\\lib\\site-packages (1.24.2)\n",
      "Note: you may need to restart the kernel to use updated packages.\n"
     ]
    }
   ],
   "source": [
    "pip install numpy\n"
   ]
  },
  {
   "cell_type": "code",
   "execution_count": 2,
   "metadata": {},
   "outputs": [
    {
     "name": "stdout",
     "output_type": "stream",
     "text": [
      "Requirement already satisfied: pandas in c:\\users\\vrjav\\eng_proj_intern\\.venv\\lib\\site-packages (1.5.3)\n",
      "Requirement already satisfied: python-dateutil>=2.8.1 in c:\\users\\vrjav\\eng_proj_intern\\.venv\\lib\\site-packages (from pandas) (2.8.2)\n",
      "Requirement already satisfied: pytz>=2020.1 in c:\\users\\vrjav\\eng_proj_intern\\.venv\\lib\\site-packages (from pandas) (2022.7.1)\n",
      "Requirement already satisfied: numpy>=1.21.0 in c:\\users\\vrjav\\eng_proj_intern\\.venv\\lib\\site-packages (from pandas) (1.24.2)\n",
      "Requirement already satisfied: six>=1.5 in c:\\users\\vrjav\\eng_proj_intern\\.venv\\lib\\site-packages (from python-dateutil>=2.8.1->pandas) (1.16.0)\n",
      "Note: you may need to restart the kernel to use updated packages.\n"
     ]
    }
   ],
   "source": [
    "pip install pandas\n"
   ]
  },
  {
   "cell_type": "code",
   "execution_count": 9,
   "metadata": {},
   "outputs": [
    {
     "name": "stdout",
     "output_type": "stream",
     "text": [
      "Collecting xlrd\n",
      "  Downloading xlrd-2.0.1-py2.py3-none-any.whl (96 kB)\n",
      "     ---------------------------------------- 0.0/96.5 kB ? eta -:--:--\n",
      "     ---------------------------------------- 96.5/96.5 kB 2.8 MB/s eta 0:00:00\n",
      "Installing collected packages: xlrd\n",
      "Successfully installed xlrd-2.0.1\n",
      "Note: you may need to restart the kernel to use updated packages.\n"
     ]
    }
   ],
   "source": [
    "pip install xlrd\n"
   ]
  },
  {
   "cell_type": "code",
   "execution_count": 10,
   "metadata": {},
   "outputs": [
    {
     "name": "stdout",
     "output_type": "stream",
     "text": [
      "          ID  LIMIT_BAL  SEX  EDUCATION  MARRIAGE  AGE  PAY_0  PAY_2  PAY_3  \\\n",
      "0          1      20000    2          2         1   24      2      2     -1   \n",
      "1          2     120000    2          2         2   26     -1      2      0   \n",
      "2          3      90000    2          2         2   34      0      0      0   \n",
      "3          4      50000    2          2         1   37      0      0      0   \n",
      "4          5      50000    1          2         1   57     -1      0     -1   \n",
      "...      ...        ...  ...        ...       ...  ...    ...    ...    ...   \n",
      "29995  29996     220000    1          3         1   39      0      0      0   \n",
      "29996  29997     150000    1          3         2   43     -1     -1     -1   \n",
      "29997  29998      30000    1          2         2   37      4      3      2   \n",
      "29998  29999      80000    1          3         1   41      1     -1      0   \n",
      "29999  30000      50000    1          2         1   46      0      0      0   \n",
      "\n",
      "       PAY_4  ...  BILL_AMT4  BILL_AMT5  BILL_AMT6  PAY_AMT1  PAY_AMT2  \\\n",
      "0         -1  ...          0          0          0         0       689   \n",
      "1          0  ...       3272       3455       3261         0      1000   \n",
      "2          0  ...      14331      14948      15549      1518      1500   \n",
      "3          0  ...      28314      28959      29547      2000      2019   \n",
      "4          0  ...      20940      19146      19131      2000     36681   \n",
      "...      ...  ...        ...        ...        ...       ...       ...   \n",
      "29995      0  ...      88004      31237      15980      8500     20000   \n",
      "29996     -1  ...       8979       5190          0      1837      3526   \n",
      "29997     -1  ...      20878      20582      19357         0         0   \n",
      "29998      0  ...      52774      11855      48944     85900      3409   \n",
      "29999      0  ...      36535      32428      15313      2078      1800   \n",
      "\n",
      "       PAY_AMT3  PAY_AMT4  PAY_AMT5  PAY_AMT6  default payment next month  \n",
      "0             0         0         0         0                           1  \n",
      "1          1000      1000         0      2000                           1  \n",
      "2          1000      1000      1000      5000                           0  \n",
      "3          1200      1100      1069      1000                           0  \n",
      "4         10000      9000       689       679                           0  \n",
      "...         ...       ...       ...       ...                         ...  \n",
      "29995      5003      3047      5000      1000                           0  \n",
      "29996      8998       129         0         0                           0  \n",
      "29997     22000      4200      2000      3100                           1  \n",
      "29998      1178      1926     52964      1804                           1  \n",
      "29999      1430      1000      1000      1000                           1  \n",
      "\n",
      "[30000 rows x 25 columns]\n"
     ]
    }
   ],
   "source": [
    "import numpy as np  \n",
    "import pandas as pd\n",
    "url = \"default of credit card clients.xls\"\n",
    "\n",
    "\n",
    "# Read dataset to pandas dataframe\n",
    "dataset = pd.read_excel(\"default of credit card clients.xls\", header=1)  #GO TO PARTICULAR DAtaset and fetch csv file from web\n",
    "print(dataset)\n",
    "X = dataset.iloc[:, :-1].values  \n",
    "y = dataset.iloc[:, 4].values"
   ]
  },
  {
   "cell_type": "code",
   "execution_count": 12,
   "metadata": {},
   "outputs": [
    {
     "name": "stdout",
     "output_type": "stream",
     "text": [
      "Collecting scikit-learn\n",
      "  Downloading scikit_learn-1.2.2-cp311-cp311-win_amd64.whl (8.3 MB)\n",
      "     ---------------------------------------- 0.0/8.3 MB ? eta -:--:--\n",
      "     ---------------------------------------- 0.0/8.3 MB 991.0 kB/s eta 0:00:09\n",
      "      --------------------------------------- 0.1/8.3 MB 1.7 MB/s eta 0:00:05\n",
      "     -- ------------------------------------- 0.6/8.3 MB 4.4 MB/s eta 0:00:02\n",
      "     ------- -------------------------------- 1.5/8.3 MB 8.5 MB/s eta 0:00:01\n",
      "     ---------- ----------------------------- 2.2/8.3 MB 10.0 MB/s eta 0:00:01\n",
      "     -------------- ------------------------- 3.0/8.3 MB 11.2 MB/s eta 0:00:01\n",
      "     ---------------------- ----------------- 4.6/8.3 MB 14.6 MB/s eta 0:00:01\n",
      "     -------------------------- ------------- 5.5/8.3 MB 15.3 MB/s eta 0:00:01\n",
      "     --------------------------- ------------ 5.7/8.3 MB 15.2 MB/s eta 0:00:01\n",
      "     ------------------------------- -------- 6.5/8.3 MB 14.3 MB/s eta 0:00:01\n",
      "     -------------------------------- ------- 6.6/8.3 MB 14.1 MB/s eta 0:00:01\n",
      "     ----------------------------------- ---- 7.4/8.3 MB 13.5 MB/s eta 0:00:01\n",
      "     ---------------------------------------- 8.3/8.3 MB 13.9 MB/s eta 0:00:00\n",
      "Requirement already satisfied: numpy>=1.17.3 in c:\\users\\vrjav\\eng_proj_intern\\.venv\\lib\\site-packages (from scikit-learn) (1.24.2)\n",
      "Collecting scipy>=1.3.2\n",
      "  Using cached scipy-1.10.1-cp311-cp311-win_amd64.whl (42.2 MB)\n",
      "Collecting joblib>=1.1.1\n",
      "  Using cached joblib-1.2.0-py3-none-any.whl (297 kB)\n",
      "Collecting threadpoolctl>=2.0.0\n",
      "  Using cached threadpoolctl-3.1.0-py3-none-any.whl (14 kB)\n",
      "Installing collected packages: threadpoolctl, scipy, joblib, scikit-learn\n",
      "Successfully installed joblib-1.2.0 scikit-learn-1.2.2 scipy-1.10.1 threadpoolctl-3.1.0\n",
      "Note: you may need to restart the kernel to use updated packages.\n"
     ]
    }
   ],
   "source": [
    "pip install scikit-learn\n"
   ]
  },
  {
   "cell_type": "code",
   "execution_count": 14,
   "metadata": {},
   "outputs": [
    {
     "name": "stdout",
     "output_type": "stream",
     "text": [
      "Collecting matplotlib\n",
      "  Downloading matplotlib-3.7.1-cp311-cp311-win_amd64.whl (7.6 MB)\n",
      "     ---------------------------------------- 0.0/7.6 MB ? eta -:--:--\n",
      "     - -------------------------------------- 0.2/7.6 MB 3.9 MB/s eta 0:00:02\n",
      "     ---- ----------------------------------- 0.8/7.6 MB 8.5 MB/s eta 0:00:01\n",
      "     -------- ------------------------------- 1.6/7.6 MB 12.6 MB/s eta 0:00:01\n",
      "     -------------- ------------------------- 2.7/7.6 MB 14.4 MB/s eta 0:00:01\n",
      "     -------------------- ------------------- 4.0/7.6 MB 17.0 MB/s eta 0:00:01\n",
      "     -------------------------- ------------- 5.1/7.6 MB 18.1 MB/s eta 0:00:01\n",
      "     -------------------------------- ------- 6.1/7.6 MB 19.6 MB/s eta 0:00:01\n",
      "     ------------------------------------- -- 7.2/7.6 MB 19.1 MB/s eta 0:00:01\n",
      "     ---------------------------------------  7.6/7.6 MB 19.5 MB/s eta 0:00:01\n",
      "     ---------------------------------------- 7.6/7.6 MB 18.0 MB/s eta 0:00:00\n",
      "Collecting contourpy>=1.0.1\n",
      "  Using cached contourpy-1.0.7-cp311-cp311-win_amd64.whl (162 kB)\n",
      "Collecting cycler>=0.10\n",
      "  Using cached cycler-0.11.0-py3-none-any.whl (6.4 kB)\n",
      "Collecting fonttools>=4.22.0\n",
      "  Using cached fonttools-4.39.0-py3-none-any.whl (1.0 MB)\n",
      "Collecting kiwisolver>=1.0.1\n",
      "  Using cached kiwisolver-1.4.4-cp311-cp311-win_amd64.whl (55 kB)\n",
      "Requirement already satisfied: numpy>=1.20 in c:\\users\\vrjav\\eng_proj_intern\\.venv\\lib\\site-packages (from matplotlib) (1.24.2)\n",
      "Requirement already satisfied: packaging>=20.0 in c:\\users\\vrjav\\eng_proj_intern\\.venv\\lib\\site-packages (from matplotlib) (23.0)\n",
      "Collecting pillow>=6.2.0\n",
      "  Using cached Pillow-9.4.0-cp311-cp311-win_amd64.whl (2.5 MB)\n",
      "Collecting pyparsing>=2.3.1\n",
      "  Using cached pyparsing-3.0.9-py3-none-any.whl (98 kB)\n",
      "Requirement already satisfied: python-dateutil>=2.7 in c:\\users\\vrjav\\eng_proj_intern\\.venv\\lib\\site-packages (from matplotlib) (2.8.2)\n",
      "Requirement already satisfied: six>=1.5 in c:\\users\\vrjav\\eng_proj_intern\\.venv\\lib\\site-packages (from python-dateutil>=2.7->matplotlib) (1.16.0)\n",
      "Installing collected packages: pyparsing, pillow, kiwisolver, fonttools, cycler, contourpy, matplotlib\n",
      "Successfully installed contourpy-1.0.7 cycler-0.11.0 fonttools-4.39.0 kiwisolver-1.4.4 matplotlib-3.7.1 pillow-9.4.0 pyparsing-3.0.9\n",
      "Note: you may need to restart the kernel to use updated packages.\n"
     ]
    }
   ],
   "source": [
    "pip install matplotlib\n"
   ]
  },
  {
   "cell_type": "code",
   "execution_count": 16,
   "metadata": {},
   "outputs": [
    {
     "name": "stdout",
     "output_type": "stream",
     "text": [
      "[1 1 2 ... 2 1 1]\n",
      "[[   4   11    0    0]\n",
      " [   0 2657   53    0]\n",
      " [   0   30 3190    1]\n",
      " [   0    1   11   42]]\n",
      "              precision    recall  f1-score   support\n",
      "\n",
      "           0       1.00      0.27      0.42        15\n",
      "           1       0.98      0.98      0.98      2710\n",
      "           2       0.98      0.99      0.99      3221\n",
      "           3       0.98      0.78      0.87        54\n",
      "\n",
      "    accuracy                           0.98      6000\n",
      "   macro avg       0.99      0.75      0.81      6000\n",
      "weighted avg       0.98      0.98      0.98      6000\n",
      "\n",
      "0.7846666666666666\n",
      "0.778\n",
      "0.7842222222222223\n",
      "0.8116666666666666\n"
     ]
    },
    {
     "data": {
      "text/plain": [
       "[<matplotlib.lines.Line2D at 0x2822cc0dd10>,\n",
       " <matplotlib.lines.Line2D at 0x2822cc0c710>,\n",
       " <matplotlib.lines.Line2D at 0x2822cb9e790>,\n",
       " <matplotlib.lines.Line2D at 0x2822cc0dd90>,\n",
       " <matplotlib.lines.Line2D at 0x2822cc0de90>,\n",
       " <matplotlib.lines.Line2D at 0x2822cb9f410>,\n",
       " <matplotlib.lines.Line2D at 0x2822cb9f850>,\n",
       " <matplotlib.lines.Line2D at 0x2822cc0e2d0>]"
      ]
     },
     "execution_count": 16,
     "metadata": {},
     "output_type": "execute_result"
    },
    {
     "data": {
      "image/png": "[encoded data removed]",
      "text/plain": [
       "<Figure size 640x480 with 1 Axes>"
      ]
     },
     "metadata": {},
     "output_type": "display_data"
    }
   ],
   "source": [
    "\n",
    "\n",
    "from sklearn.model_selection import train_test_split  \n",
    "X_train, X_test, y_train, y_test = train_test_split(X, y, test_size=0.20)\n",
    "from sklearn.preprocessing import StandardScaler  \n",
    "scaler = StandardScaler()  \n",
    "scaler.fit(X_train)\n",
    "X_train = scaler.transform(X_train)  \n",
    "X_test = scaler.transform(X_test)\n",
    "\n",
    "\n",
    "import sklearn\n",
    "from sklearn.neighbors import KNeighborsClassifier  \n",
    "classifier = KNeighborsClassifier(n_neighbors=1)  \n",
    "classifier.fit(X_train, y_train)\n",
    "y_pred = classifier.predict(X_test)\n",
    "print(y_pred)\n",
    "from sklearn.metrics import classification_report, confusion_matrix \n",
    "print(confusion_matrix(y_test, y_pred))  \n",
    "print(classification_report(y_test, y_pred)) \n",
    "\n",
    "\n",
    "data =  dataset.drop(['default payment next month','ID'], axis = 1)\n",
    "target = dataset['default payment next month']\n",
    "correlation = dataset.corr('spearman')\n",
    "correlation\n",
    "\n",
    "\n",
    "abs(correlation['default payment next month']).sort_values()\n",
    "\n",
    "\n",
    "import matplotlib.pyplot as plt\n",
    "from matplotlib.colors import ListedColormap\n",
    "from sklearn.preprocessing import MinMaxScaler\n",
    "from sklearn.neighbors import KNeighborsClassifier\n",
    "knn = KNeighborsClassifier(n_neighbors=5)\n",
    "from sklearn import neighbors, datasets\n",
    "from sklearn import metrics\n",
    "scalar = MinMaxScaler()\n",
    "data=dataset.drop(['default payment next month','ID'], axis = 1)\n",
    "target=dataset['default payment next month']\n",
    "\n",
    "\n",
    "plt.plot(X_train, y_train, 'r.', X_test, y_pred,'b.',)\n",
    "\n",
    "\n",
    "x = np.array(data[['PAY_2']])\n",
    "y = np.array(target)\n",
    "x = scalar.fit_transform(x)\n",
    "xtrain, xtest, ytrain, ytest = train_test_split(x,y,test_size=0.3)\n",
    "knn.fit(xtrain,ytrain)\n",
    "ypred = knn.predict(xtest)\n",
    "print(metrics.accuracy_score(ypred,ytest))\n",
    "\n",
    "\n",
    "plt.plot(xtrain,ytrain,'r.',xtest,ypred,'b.',)\n",
    "\n",
    "\n",
    "x = np.array(data[['PAY_3']])\n",
    "y = np.array(target)\n",
    "x = scalar.fit_transform(x)\n",
    "xtrain, xtest, ytrain, ytest = train_test_split(x,y,test_size=0.3)\n",
    "knn.fit(xtrain,ytrain)\n",
    "ypred = knn.predict(xtest)\n",
    "print(metrics.accuracy_score(ypred,ytest))\n",
    "\n",
    "\n",
    "plt.plot(xtrain,ytrain,'r.',xtest,ypred,'b.',)\n",
    "\n",
    "\n",
    "x = np.array(data[['PAY_4']])\n",
    "y = np.array(target)\n",
    "x = scalar.fit_transform(x)\n",
    "xtrain, xtest, ytrain, ytest = train_test_split(x,y,test_size=0.3)\n",
    "knn.fit(xtrain,ytrain)\n",
    "ypred = knn.predict(xtest)\n",
    "print(metrics.accuracy_score(ypred,ytest))\n",
    "\n",
    "\n",
    "plt.plot(xtrain,ytrain,'r.',xtest,ypred,'b.',)\n",
    "\n",
    "\n",
    "x = np.array(data[['PAY_0','PAY_2','PAY_3','PAY_4']])\n",
    "y = np.array(target)\n",
    "x = scalar.fit_transform(x)\n",
    "xtrain, xtest, ytrain, ytest = train_test_split(x,y,test_size=0.3)\n",
    "knn.fit(xtrain,ytrain)\n",
    "ypred = knn.predict(xtest)\n",
    "print(metrics.accuracy_score(ypred,ytest))\n",
    "\n",
    "\n",
    "plt.plot(xtrain,ytrain,'r.',xtest,ypred,'b.',)"
   ]
  }
 ],
 "metadata": {
  "kernelspec": {
   "display_name": "Python 3",
   "language": "python",
   "name": "python3"
  },
  "language_info": {
   "codemirror_mode": {
    "name": "ipython",
    "version": 3
   },
   "file_extension": ".py",
   "mimetype": "text/x-python",
   "name": "python",
   "nbconvert_exporter": "python",
   "pygments_lexer": "ipython3",
   "version": "3.11.1"
  }
 },
 "nbformat": 4,
 "nbformat_minor": 2
}
